{
 "cells": [
  {
   "cell_type": "code",
   "execution_count": 3,
   "metadata": {
    "id": "s90c90ceGYoo"
   },
   "outputs": [],
   "source": [
    "import sympy as sp"
   ]
  },
  {
   "cell_type": "markdown",
   "metadata": {
    "id": "z2umlpcZSBaO"
   },
   "source": [
    "## Generators of SU(N)"
   ]
  },
  {
   "cell_type": "code",
   "execution_count": 4,
   "metadata": {
    "id": "uy8SXjloKeqs"
   },
   "outputs": [],
   "source": [
    "def generators_su(N):\n",
    "  matrices = []\n",
    "  for i in range(N):\n",
    "    for j in range(i+1, N):\n",
    "      matrix = sp.zeros(N, N)\n",
    "      matrix[i, j] = sp.Rational(1,2)\n",
    "      matrix[j, i] = sp.Rational(1,2)\n",
    "      matrices.append(matrix)\n",
    "  for i in range(N):\n",
    "    for j in range(i+1, N):\n",
    "      matrix = sp.zeros(N, N)\n",
    "      matrix[i, j] = -sp.I/2\n",
    "      matrix[j, i] = sp.I/2\n",
    "      matrices.append(matrix)\n",
    "  for i in range(1,N):\n",
    "    matrix = sp.zeros(N, N)\n",
    "    for j in range(i):\n",
    "      matrix[j, j] = 1\n",
    "    matrix[i, i] = -i\n",
    "    norm=sp.sqrt(2*sp.trace(matrix*matrix))\n",
    "    matrix=norm**(-1)*matrix\n",
    "    matrices.append(matrix)\n",
    "  return matrices"
   ]
  },
  {
   "cell_type": "code",
   "execution_count": 5,
   "metadata": {
    "colab": {
     "base_uri": "https://localhost:8080/"
    },
    "executionInfo": {
     "elapsed": 9,
     "status": "ok",
     "timestamp": 1697767498286,
     "user": {
      "displayName": "Carlos Alberto Vaquera Araujo",
      "userId": "00709773997759590991"
     },
     "user_tz": 420
    },
    "id": "4_aid3CwKSn3",
    "outputId": "eff20497-7743-45e7-a119-4b315512c901"
   },
   "outputs": [
    {
     "data": {
      "text/plain": [
       "[Matrix([\n",
       " [  0, 1/2, 0],\n",
       " [1/2,   0, 0],\n",
       " [  0,   0, 0]]),\n",
       " Matrix([\n",
       " [  0, 0, 1/2],\n",
       " [  0, 0,   0],\n",
       " [1/2, 0,   0]]),\n",
       " Matrix([\n",
       " [0,   0,   0],\n",
       " [0,   0, 1/2],\n",
       " [0, 1/2,   0]]),\n",
       " Matrix([\n",
       " [  0, -I/2, 0],\n",
       " [I/2,    0, 0],\n",
       " [  0,    0, 0]]),\n",
       " Matrix([\n",
       " [  0, 0, -I/2],\n",
       " [  0, 0,    0],\n",
       " [I/2, 0,    0]]),\n",
       " Matrix([\n",
       " [0,   0,    0],\n",
       " [0,   0, -I/2],\n",
       " [0, I/2,    0]]),\n",
       " Matrix([\n",
       " [1/2,    0, 0],\n",
       " [  0, -1/2, 0],\n",
       " [  0,    0, 0]]),\n",
       " Matrix([\n",
       " [sqrt(3)/6,         0,          0],\n",
       " [        0, sqrt(3)/6,          0],\n",
       " [        0,         0, -sqrt(3)/3]])]"
      ]
     },
     "execution_count": 5,
     "metadata": {},
     "output_type": "execute_result"
    }
   ],
   "source": [
    "generators_su(3)"
   ]
  },
  {
   "cell_type": "markdown",
   "metadata": {
    "id": "bzHG_5m-VIXI"
   },
   "source": [
    "Reordering"
   ]
  },
  {
   "cell_type": "code",
   "execution_count": 6,
   "metadata": {
    "id": "wvWEYi8nHrub"
   },
   "outputs": [],
   "source": [
    "gell_mann_order = [0,3,6,1,4,2,5,7]\n",
    "ordered_generators = [generators_su(3)[i] for i in gell_mann_order]"
   ]
  },
  {
   "cell_type": "code",
   "execution_count": 7,
   "metadata": {
    "id": "AvLUDogUUm1X"
   },
   "outputs": [],
   "source": [
    "def T(a):\n",
    "  return ordered_generators[a-1]"
   ]
  },
  {
   "cell_type": "code",
   "execution_count": 8,
   "metadata": {
    "colab": {
     "base_uri": "https://localhost:8080/",
     "height": 89
    },
    "executionInfo": {
     "elapsed": 213,
     "status": "ok",
     "timestamp": 1697767500886,
     "user": {
      "displayName": "Carlos Alberto Vaquera Araujo",
      "userId": "00709773997759590991"
     },
     "user_tz": 420
    },
    "id": "muYN-1eTUw4u",
    "outputId": "8d84a1b7-a984-46d6-8fca-f100d2e2ca2c"
   },
   "outputs": [
    {
     "data": {
      "text/latex": [
       "$\\displaystyle \\left[\\begin{matrix}\\frac{1}{2} & 0 & 0\\\\0 & - \\frac{1}{2} & 0\\\\0 & 0 & 0\\end{matrix}\\right]$"
      ],
      "text/plain": [
       "Matrix([\n",
       "[1/2,    0, 0],\n",
       "[  0, -1/2, 0],\n",
       "[  0,    0, 0]])"
      ]
     },
     "execution_count": 8,
     "metadata": {},
     "output_type": "execute_result"
    }
   ],
   "source": [
    "T(3)"
   ]
  },
  {
   "cell_type": "code",
   "execution_count": 9,
   "metadata": {},
   "outputs": [
    {
     "data": {
      "text/latex": [
       "$\\displaystyle \\left[\\begin{matrix}\\frac{\\sqrt{3}}{6} & 0 & 0\\\\0 & \\frac{\\sqrt{3}}{6} & 0\\\\0 & 0 & - \\frac{\\sqrt{3}}{3}\\end{matrix}\\right]$"
      ],
      "text/plain": [
       "Matrix([\n",
       "[sqrt(3)/6,         0,          0],\n",
       "[        0, sqrt(3)/6,          0],\n",
       "[        0,         0, -sqrt(3)/3]])"
      ]
     },
     "execution_count": 9,
     "metadata": {},
     "output_type": "execute_result"
    }
   ],
   "source": [
    "T(8)"
   ]
  },
  {
   "cell_type": "markdown",
   "metadata": {
    "id": "Ica2Xob4VOXF"
   },
   "source": [
    "## $su(3)$ *algebra*"
   ]
  },
  {
   "cell_type": "code",
   "execution_count": 10,
   "metadata": {
    "id": "mWYyWKboUxw8"
   },
   "outputs": [],
   "source": [
    "def comm(a,b):\n",
    "    return sp.simplify(a*b-b*a)\n",
    "\n",
    "def acomm(a,b):\n",
    "    return sp.simplify(a*b+b*a)"
   ]
  },
  {
   "cell_type": "code",
   "execution_count": 11,
   "metadata": {},
   "outputs": [
    {
     "data": {
      "text/plain": [
       "True"
      ]
     },
     "execution_count": 11,
     "metadata": {},
     "output_type": "execute_result"
    }
   ],
   "source": [
    "comm(T(1),T(4))==sp.I*T(7)/2"
   ]
  },
  {
   "cell_type": "markdown",
   "metadata": {
    "id": "LoXa5AyEV04h"
   },
   "source": [
    "### Structure Constants"
   ]
  },
  {
   "cell_type": "code",
   "execution_count": 12,
   "metadata": {
    "id": "iPoXK8dXVbh5"
   },
   "outputs": [],
   "source": [
    "def f(a,b,c):\n",
    "    return sp.simplify(-2*sp.I*sp.trace(comm(T(a),T(b))*T(c)))"
   ]
  },
  {
   "cell_type": "code",
   "execution_count": 13,
   "metadata": {
    "colab": {
     "base_uri": "https://localhost:8080/"
    },
    "executionInfo": {
     "elapsed": 806,
     "status": "ok",
     "timestamp": 1697767507855,
     "user": {
      "displayName": "Carlos Alberto Vaquera Araujo",
      "userId": "00709773997759590991"
     },
     "user_tz": 420
    },
    "id": "_6FD1hPXV8IV",
    "outputId": "7e27ac86-2b91-47e8-c1a6-918b3e91adca"
   },
   "outputs": [
    {
     "name": "stdout",
     "output_type": "stream",
     "text": [
      "f_123= 1\n",
      "f_147= 1/2\n",
      "f_156= -1/2\n",
      "f_246= 1/2\n",
      "f_257= 1/2\n",
      "f_345= 1/2\n",
      "f_367= -1/2\n",
      "f_458= sqrt(3)/2\n",
      "f_678= sqrt(3)/2\n"
     ]
    }
   ],
   "source": [
    "# Print the nonzero structure constants\n",
    "for a in range(1,9):\n",
    "  for b in range(a,9):\n",
    "    for c in range(b,9):\n",
    "      if f(a,b,c)!= 0:\n",
    "        print(f'f_{a}{b}{c}= {f(a,b,c)}')"
   ]
  },
  {
   "cell_type": "markdown",
   "metadata": {
    "id": "v_14iFxHYDxg"
   },
   "source": [
    "### Symmetric Constants"
   ]
  },
  {
   "cell_type": "code",
   "execution_count": 14,
   "metadata": {
    "id": "Vyg0eLO5WbUK"
   },
   "outputs": [],
   "source": [
    "def d(a,b,c):\n",
    "    return sp.simplify(2*sp.trace(acomm(T(a),T(b))*T(c)))"
   ]
  },
  {
   "cell_type": "code",
   "execution_count": 15,
   "metadata": {
    "colab": {
     "base_uri": "https://localhost:8080/"
    },
    "executionInfo": {
     "elapsed": 560,
     "status": "ok",
     "timestamp": 1697767511798,
     "user": {
      "displayName": "Carlos Alberto Vaquera Araujo",
      "userId": "00709773997759590991"
     },
     "user_tz": 420
    },
    "id": "-nkiNwNoWkby",
    "outputId": "ac43775a-3aaa-4b28-bd1a-d2e5582346e7"
   },
   "outputs": [
    {
     "name": "stdout",
     "output_type": "stream",
     "text": [
      "d_118= sqrt(3)/3\n",
      "d_146= 1/2\n",
      "d_157= 1/2\n",
      "d_228= sqrt(3)/3\n",
      "d_247= -1/2\n",
      "d_256= 1/2\n",
      "d_338= sqrt(3)/3\n",
      "d_344= 1/2\n",
      "d_355= 1/2\n",
      "d_366= -1/2\n",
      "d_377= -1/2\n",
      "d_448= -sqrt(3)/6\n",
      "d_558= -sqrt(3)/6\n",
      "d_668= -sqrt(3)/6\n",
      "d_778= -sqrt(3)/6\n",
      "d_888= -sqrt(3)/3\n"
     ]
    }
   ],
   "source": [
    "# Print the nonzero structure constants\n",
    "for a in range(1,9):\n",
    "  for b in range(a,9):\n",
    "    for c in range(b,9):\n",
    "      if d(a,b,c)!= 0:\n",
    "        print(f'd_{a}{b}{c}= {d(a,b,c)}')"
   ]
  },
  {
   "cell_type": "markdown",
   "metadata": {
    "id": "5-XheVYiY5gD"
   },
   "source": [
    "## Adjoint Representation"
   ]
  },
  {
   "cell_type": "code",
   "execution_count": 16,
   "metadata": {
    "id": "uK_hwaYIYVYI"
   },
   "outputs": [],
   "source": [
    "def A(a):\n",
    "    res=sp.zeros(8)\n",
    "    for i in range(8):\n",
    "        for j in range(8):\n",
    "            res[i,j]=-sp.I*f(a,i+1,j+1)\n",
    "    return sp.simplify(res)"
   ]
  },
  {
   "cell_type": "code",
   "execution_count": 17,
   "metadata": {
    "colab": {
     "base_uri": "https://localhost:8080/",
     "height": 181
    },
    "executionInfo": {
     "elapsed": 809,
     "status": "ok",
     "timestamp": 1697767528496,
     "user": {
      "displayName": "Carlos Alberto Vaquera Araujo",
      "userId": "00709773997759590991"
     },
     "user_tz": 420
    },
    "id": "exK9qEo6Y-QT",
    "outputId": "bc1c0033-befa-4c8b-b79a-0d53096f8860"
   },
   "outputs": [
    {
     "data": {
      "text/latex": [
       "$\\displaystyle \\left[\\begin{matrix}0 & - i & 0 & 0 & 0 & 0 & 0 & 0\\\\i & 0 & 0 & 0 & 0 & 0 & 0 & 0\\\\0 & 0 & 0 & 0 & 0 & 0 & 0 & 0\\\\0 & 0 & 0 & 0 & - \\frac{i}{2} & 0 & 0 & 0\\\\0 & 0 & 0 & \\frac{i}{2} & 0 & 0 & 0 & 0\\\\0 & 0 & 0 & 0 & 0 & 0 & \\frac{i}{2} & 0\\\\0 & 0 & 0 & 0 & 0 & - \\frac{i}{2} & 0 & 0\\\\0 & 0 & 0 & 0 & 0 & 0 & 0 & 0\\end{matrix}\\right]$"
      ],
      "text/plain": [
       "Matrix([\n",
       "[0, -I, 0,   0,    0,    0,   0, 0],\n",
       "[I,  0, 0,   0,    0,    0,   0, 0],\n",
       "[0,  0, 0,   0,    0,    0,   0, 0],\n",
       "[0,  0, 0,   0, -I/2,    0,   0, 0],\n",
       "[0,  0, 0, I/2,    0,    0,   0, 0],\n",
       "[0,  0, 0,   0,    0,    0, I/2, 0],\n",
       "[0,  0, 0,   0,    0, -I/2,   0, 0],\n",
       "[0,  0, 0,   0,    0,    0,   0, 0]])"
      ]
     },
     "execution_count": 17,
     "metadata": {},
     "output_type": "execute_result"
    }
   ],
   "source": [
    "A(3)"
   ]
  },
  {
   "cell_type": "markdown",
   "metadata": {
    "id": "7WI94QD81NMu"
   },
   "source": [
    "Adjoint basis"
   ]
  },
  {
   "cell_type": "code",
   "execution_count": 18,
   "metadata": {
    "id": "o2Cf6rY1ZBiD"
   },
   "outputs": [],
   "source": [
    "def As(a):\n",
    "  # Adjoint basis state |A_a>\n",
    "  d=8\n",
    "  return sp.eye(d).col(a-1)"
   ]
  },
  {
   "cell_type": "code",
   "execution_count": 19,
   "metadata": {
    "colab": {
     "base_uri": "https://localhost:8080/",
     "height": 180
    },
    "executionInfo": {
     "elapsed": 440,
     "status": "ok",
     "timestamp": 1697767943880,
     "user": {
      "displayName": "Carlos Alberto Vaquera Araujo",
      "userId": "00709773997759590991"
     },
     "user_tz": 420
    },
    "id": "46wDP6Bk1pEk",
    "outputId": "f96eff22-d8a0-441f-a78b-bc6c5138807e"
   },
   "outputs": [
    {
     "data": {
      "text/plain": [
       "True"
      ]
     },
     "execution_count": 19,
     "metadata": {},
     "output_type": "execute_result"
    }
   ],
   "source": [
    "A(1)*As(2)==sp.I*As(3)"
   ]
  },
  {
   "cell_type": "code",
   "execution_count": 20,
   "metadata": {
    "colab": {
     "base_uri": "https://localhost:8080/",
     "height": 51
    },
    "executionInfo": {
     "elapsed": 185,
     "status": "ok",
     "timestamp": 1697767954302,
     "user": {
      "displayName": "Carlos Alberto Vaquera Araujo",
      "userId": "00709773997759590991"
     },
     "user_tz": 420
    },
    "id": "6hRnA4Ot1p_P",
    "outputId": "c09b9e4f-ad15-4490-d94f-f4997ab6196b"
   },
   "outputs": [
    {
     "data": {
      "text/plain": [
       "True"
      ]
     },
     "execution_count": 20,
     "metadata": {},
     "output_type": "execute_result"
    }
   ],
   "source": [
    "A(1)*As(4)==(sp.I/2)*As(7)"
   ]
  },
  {
   "cell_type": "markdown",
   "metadata": {
    "id": "ioxpBMQJ37Zl"
   },
   "source": [
    "Diagonalization, eigenvector normalization rephasing and reordering"
   ]
  },
  {
   "cell_type": "code",
   "execution_count": 21,
   "metadata": {
    "executionInfo": {
     "elapsed": 1108,
     "status": "ok",
     "timestamp": 1697768267759,
     "user": {
      "displayName": "Carlos Alberto Vaquera Araujo",
      "userId": "00709773997759590991"
     },
     "user_tz": 420
    },
    "id": "xBVXwazB2mBT"
   },
   "outputs": [],
   "source": [
    "O0,A3D=A(3).diagonalize()"
   ]
  },
  {
   "cell_type": "code",
   "execution_count": 22,
   "metadata": {
    "executionInfo": {
     "elapsed": 163,
     "status": "ok",
     "timestamp": 1697768496692,
     "user": {
      "displayName": "Carlos Alberto Vaquera Araujo",
      "userId": "00709773997759590991"
     },
     "user_tz": 420
    },
    "id": "RAlSrULI4Qys"
   },
   "outputs": [],
   "source": [
    "def modal():\n",
    "    O1=O0*sp.sqrt(sp.conjugate(sp.transpose(O0))*O0)**(-1)\n",
    "    phase=sp.eye(8)\n",
    "    for j in range(8):\n",
    "        for i in range(8):\n",
    "            if O1[i,j]!=0:\n",
    "                phase[j,j]=sp.exp(-sp.I*sp.arg(O1[i,j]))\n",
    "                break\n",
    "    modal0=O1*phase\n",
    "    res=sp.zeros(8)\n",
    "    res[:,0]=modal0[:,3]\n",
    "    res[:,1]=modal0[:,4]\n",
    "    res[:,2]=modal0[:,7]\n",
    "    res[:,3]=modal0[:,0]\n",
    "    res[:,4]=modal0[:,5]\n",
    "    res[:,5]=modal0[:,1]\n",
    "    res[:,6]=modal0[:,2]\n",
    "    res[:,7]=modal0[:,6]\n",
    "    return res"
   ]
  },
  {
   "cell_type": "code",
   "execution_count": 23,
   "metadata": {
    "colab": {
     "base_uri": "https://localhost:8080/",
     "height": 200
    },
    "executionInfo": {
     "elapsed": 225,
     "status": "ok",
     "timestamp": 1697768850233,
     "user": {
      "displayName": "Carlos Alberto Vaquera Araujo",
      "userId": "00709773997759590991"
     },
     "user_tz": 420
    },
    "id": "_JrYQjXY4Tkp",
    "outputId": "f415e16c-0c50-4fd4-b050-cb21c1ba50ac"
   },
   "outputs": [
    {
     "data": {
      "text/latex": [
       "$\\displaystyle \\left[\\begin{matrix}0 & 0 & \\frac{\\sqrt{2}}{2} & \\frac{\\sqrt{2}}{2} & 0 & 0 & 0 & 0\\\\0 & 0 & \\frac{\\sqrt{2} i}{2} & - \\frac{\\sqrt{2} i}{2} & 0 & 0 & 0 & 0\\\\1 & 0 & 0 & 0 & 0 & 0 & 0 & 0\\\\0 & 0 & 0 & 0 & \\frac{\\sqrt{2}}{2} & \\frac{\\sqrt{2}}{2} & 0 & 0\\\\0 & 0 & 0 & 0 & \\frac{\\sqrt{2} i}{2} & - \\frac{\\sqrt{2} i}{2} & 0 & 0\\\\0 & 0 & 0 & 0 & 0 & 0 & \\frac{\\sqrt{2}}{2} & \\frac{\\sqrt{2}}{2}\\\\0 & 0 & 0 & 0 & 0 & 0 & \\frac{\\sqrt{2} i}{2} & - \\frac{\\sqrt{2} i}{2}\\\\0 & 1 & 0 & 0 & 0 & 0 & 0 & 0\\end{matrix}\\right]$"
      ],
      "text/plain": [
       "Matrix([\n",
       "[0, 0,   sqrt(2)/2,    sqrt(2)/2,           0,            0,           0,            0],\n",
       "[0, 0, sqrt(2)*I/2, -sqrt(2)*I/2,           0,            0,           0,            0],\n",
       "[1, 0,           0,            0,           0,            0,           0,            0],\n",
       "[0, 0,           0,            0,   sqrt(2)/2,    sqrt(2)/2,           0,            0],\n",
       "[0, 0,           0,            0, sqrt(2)*I/2, -sqrt(2)*I/2,           0,            0],\n",
       "[0, 0,           0,            0,           0,            0,   sqrt(2)/2,    sqrt(2)/2],\n",
       "[0, 0,           0,            0,           0,            0, sqrt(2)*I/2, -sqrt(2)*I/2],\n",
       "[0, 1,           0,            0,           0,            0,           0,            0]])"
      ]
     },
     "execution_count": 23,
     "metadata": {},
     "output_type": "execute_result"
    }
   ],
   "source": [
    "modal()"
   ]
  },
  {
   "cell_type": "markdown",
   "metadata": {
    "id": "UBLha4SC55Lw"
   },
   "source": [
    "Adjoint generators in the new basis"
   ]
  },
  {
   "cell_type": "code",
   "execution_count": 24,
   "metadata": {
    "executionInfo": {
     "elapsed": 152,
     "status": "ok",
     "timestamp": 1697768882700,
     "user": {
      "displayName": "Carlos Alberto Vaquera Araujo",
      "userId": "00709773997759590991"
     },
     "user_tz": 420
    },
    "id": "7uAAM79D4UiH"
   },
   "outputs": [],
   "source": [
    "def Y(a):\n",
    "  # Adjoint generators in the diagonal Cartan subalgebra basis Y(a)\n",
    "  return sp.simplify(sp.conjugate(sp.transpose(modal()))*A(a)*modal())"
   ]
  },
  {
   "cell_type": "code",
   "execution_count": 25,
   "metadata": {
    "colab": {
     "base_uri": "https://localhost:8080/",
     "height": 180
    },
    "executionInfo": {
     "elapsed": 318,
     "status": "ok",
     "timestamp": 1697768920620,
     "user": {
      "displayName": "Carlos Alberto Vaquera Araujo",
      "userId": "00709773997759590991"
     },
     "user_tz": 420
    },
    "id": "Jmltvjql6cmv",
    "outputId": "c6d15a27-244d-43c6-9233-e72f6d562bea"
   },
   "outputs": [
    {
     "data": {
      "text/latex": [
       "$\\displaystyle \\left[\\begin{matrix}0 & 0 & 0 & 0 & 0 & 0 & 0 & 0\\\\0 & 0 & 0 & 0 & 0 & 0 & 0 & 0\\\\0 & 0 & 1 & 0 & 0 & 0 & 0 & 0\\\\0 & 0 & 0 & -1 & 0 & 0 & 0 & 0\\\\0 & 0 & 0 & 0 & \\frac{1}{2} & 0 & 0 & 0\\\\0 & 0 & 0 & 0 & 0 & - \\frac{1}{2} & 0 & 0\\\\0 & 0 & 0 & 0 & 0 & 0 & - \\frac{1}{2} & 0\\\\0 & 0 & 0 & 0 & 0 & 0 & 0 & \\frac{1}{2}\\end{matrix}\\right]$"
      ],
      "text/plain": [
       "Matrix([\n",
       "[0, 0, 0,  0,   0,    0,    0,   0],\n",
       "[0, 0, 0,  0,   0,    0,    0,   0],\n",
       "[0, 0, 1,  0,   0,    0,    0,   0],\n",
       "[0, 0, 0, -1,   0,    0,    0,   0],\n",
       "[0, 0, 0,  0, 1/2,    0,    0,   0],\n",
       "[0, 0, 0,  0,   0, -1/2,    0,   0],\n",
       "[0, 0, 0,  0,   0,    0, -1/2,   0],\n",
       "[0, 0, 0,  0,   0,    0,    0, 1/2]])"
      ]
     },
     "execution_count": 25,
     "metadata": {},
     "output_type": "execute_result"
    }
   ],
   "source": [
    "Y(3)"
   ]
  },
  {
   "cell_type": "code",
   "execution_count": 26,
   "metadata": {
    "colab": {
     "base_uri": "https://localhost:8080/",
     "height": 193
    },
    "executionInfo": {
     "elapsed": 889,
     "status": "ok",
     "timestamp": 1697768903367,
     "user": {
      "displayName": "Carlos Alberto Vaquera Araujo",
      "userId": "00709773997759590991"
     },
     "user_tz": 420
    },
    "id": "1Ck0ceVD6UBO",
    "outputId": "131b9834-a904-4598-feb3-a6122bf31276"
   },
   "outputs": [
    {
     "data": {
      "text/latex": [
       "$\\displaystyle \\left[\\begin{matrix}0 & 0 & 0 & 0 & 0 & 0 & 0 & 0\\\\0 & 0 & 0 & 0 & 0 & 0 & 0 & 0\\\\0 & 0 & 0 & 0 & 0 & 0 & 0 & 0\\\\0 & 0 & 0 & 0 & 0 & 0 & 0 & 0\\\\0 & 0 & 0 & 0 & \\frac{\\sqrt{3}}{2} & 0 & 0 & 0\\\\0 & 0 & 0 & 0 & 0 & - \\frac{\\sqrt{3}}{2} & 0 & 0\\\\0 & 0 & 0 & 0 & 0 & 0 & \\frac{\\sqrt{3}}{2} & 0\\\\0 & 0 & 0 & 0 & 0 & 0 & 0 & - \\frac{\\sqrt{3}}{2}\\end{matrix}\\right]$"
      ],
      "text/plain": [
       "Matrix([\n",
       "[0, 0, 0, 0,         0,          0,         0,          0],\n",
       "[0, 0, 0, 0,         0,          0,         0,          0],\n",
       "[0, 0, 0, 0,         0,          0,         0,          0],\n",
       "[0, 0, 0, 0,         0,          0,         0,          0],\n",
       "[0, 0, 0, 0, sqrt(3)/2,          0,         0,          0],\n",
       "[0, 0, 0, 0,         0, -sqrt(3)/2,         0,          0],\n",
       "[0, 0, 0, 0,         0,          0, sqrt(3)/2,          0],\n",
       "[0, 0, 0, 0,         0,          0,         0, -sqrt(3)/2]])"
      ]
     },
     "execution_count": 26,
     "metadata": {},
     "output_type": "execute_result"
    }
   ],
   "source": [
    "Y(8)"
   ]
  },
  {
   "cell_type": "markdown",
   "metadata": {
    "id": "RrDXpTOA6kMv"
   },
   "source": [
    "Eigenvectors of the original adjoint basis"
   ]
  },
  {
   "cell_type": "code",
   "execution_count": 27,
   "metadata": {
    "executionInfo": {
     "elapsed": 186,
     "status": "ok",
     "timestamp": 1697774529095,
     "user": {
      "displayName": "Carlos Alberto Vaquera Araujo",
      "userId": "00709773997759590991"
     },
     "user_tz": 420
    },
    "id": "oRTAMvce6U_W"
   },
   "outputs": [],
   "source": [
    "def Es(a):\n",
    "  # Eigenvectors of A(a) |E_a>=S|A_a>\n",
    "  return sp.simplify(modal()*As(a))"
   ]
  },
  {
   "cell_type": "markdown",
   "metadata": {
    "id": "1V2oybz37cax"
   },
   "source": [
    "These states reveal the identity of the $SU(3)$ ladder operators"
   ]
  },
  {
   "cell_type": "code",
   "execution_count": 28,
   "metadata": {
    "colab": {
     "base_uri": "https://localhost:8080/"
    },
    "executionInfo": {
     "elapsed": 9,
     "status": "ok",
     "timestamp": 1697774561123,
     "user": {
      "displayName": "Carlos Alberto Vaquera Araujo",
      "userId": "00709773997759590991"
     },
     "user_tz": 420
    },
    "id": "2hMt4vof60Q7",
    "outputId": "1253daa1-ed2e-4cb2-de2d-91849b58bb20"
   },
   "outputs": [
    {
     "data": {
      "text/plain": [
       "True"
      ]
     },
     "execution_count": 28,
     "metadata": {},
     "output_type": "execute_result"
    }
   ],
   "source": [
    "Es(1)==As(3)"
   ]
  },
  {
   "cell_type": "code",
   "execution_count": 29,
   "metadata": {
    "colab": {
     "base_uri": "https://localhost:8080/"
    },
    "executionInfo": {
     "elapsed": 188,
     "status": "ok",
     "timestamp": 1697774564458,
     "user": {
      "displayName": "Carlos Alberto Vaquera Araujo",
      "userId": "00709773997759590991"
     },
     "user_tz": 420
    },
    "id": "sY_0YRnH61Yj",
    "outputId": "aed4237e-f175-427b-fa49-09b32cc93578"
   },
   "outputs": [
    {
     "data": {
      "text/plain": [
       "True"
      ]
     },
     "execution_count": 29,
     "metadata": {},
     "output_type": "execute_result"
    }
   ],
   "source": [
    "Es(2)==As(8)"
   ]
  },
  {
   "cell_type": "code",
   "execution_count": 30,
   "metadata": {
    "colab": {
     "base_uri": "https://localhost:8080/"
    },
    "executionInfo": {
     "elapsed": 198,
     "status": "ok",
     "timestamp": 1697774568382,
     "user": {
      "displayName": "Carlos Alberto Vaquera Araujo",
      "userId": "00709773997759590991"
     },
     "user_tz": 420
    },
    "id": "Sm40LSsz7CSk",
    "outputId": "5ed44935-942b-4208-9994-6ed39cb20caa"
   },
   "outputs": [
    {
     "data": {
      "text/plain": [
       "True"
      ]
     },
     "execution_count": 30,
     "metadata": {},
     "output_type": "execute_result"
    }
   ],
   "source": [
    "Es(3)==(As(1)+sp.I*As(2))/sp.sqrt(2)"
   ]
  },
  {
   "cell_type": "code",
   "execution_count": 31,
   "metadata": {
    "colab": {
     "base_uri": "https://localhost:8080/"
    },
    "executionInfo": {
     "elapsed": 6,
     "status": "ok",
     "timestamp": 1697774582130,
     "user": {
      "displayName": "Carlos Alberto Vaquera Araujo",
      "userId": "00709773997759590991"
     },
     "user_tz": 420
    },
    "id": "H5hARTQB7HIm",
    "outputId": "509e791f-d9b1-4d96-a275-526ae8ee1db4"
   },
   "outputs": [
    {
     "data": {
      "text/plain": [
       "True"
      ]
     },
     "execution_count": 31,
     "metadata": {},
     "output_type": "execute_result"
    }
   ],
   "source": [
    "Es(4)==(As(1)-sp.I*As(2))/sp.sqrt(2)"
   ]
  },
  {
   "cell_type": "code",
   "execution_count": 32,
   "metadata": {
    "colab": {
     "base_uri": "https://localhost:8080/"
    },
    "executionInfo": {
     "elapsed": 6,
     "status": "ok",
     "timestamp": 1697774585584,
     "user": {
      "displayName": "Carlos Alberto Vaquera Araujo",
      "userId": "00709773997759590991"
     },
     "user_tz": 420
    },
    "id": "dNBXAt_q7WBA",
    "outputId": "ad2c3030-b163-44be-e853-7eca635c612c"
   },
   "outputs": [
    {
     "data": {
      "text/plain": [
       "True"
      ]
     },
     "execution_count": 32,
     "metadata": {},
     "output_type": "execute_result"
    }
   ],
   "source": [
    "Es(5)==(As(4)+sp.I*As(5))/sp.sqrt(2)"
   ]
  },
  {
   "cell_type": "code",
   "execution_count": 33,
   "metadata": {
    "colab": {
     "base_uri": "https://localhost:8080/"
    },
    "executionInfo": {
     "elapsed": 5,
     "status": "ok",
     "timestamp": 1697774587854,
     "user": {
      "displayName": "Carlos Alberto Vaquera Araujo",
      "userId": "00709773997759590991"
     },
     "user_tz": 420
    },
    "id": "sMTuZaPH7qM1",
    "outputId": "fcef0ca9-8960-49b9-ed8f-c7026625da23"
   },
   "outputs": [
    {
     "data": {
      "text/plain": [
       "True"
      ]
     },
     "execution_count": 33,
     "metadata": {},
     "output_type": "execute_result"
    }
   ],
   "source": [
    "Es(6)==(As(4)-sp.I*As(5))/sp.sqrt(2)"
   ]
  },
  {
   "cell_type": "code",
   "execution_count": 34,
   "metadata": {
    "colab": {
     "base_uri": "https://localhost:8080/"
    },
    "executionInfo": {
     "elapsed": 233,
     "status": "ok",
     "timestamp": 1697774589585,
     "user": {
      "displayName": "Carlos Alberto Vaquera Araujo",
      "userId": "00709773997759590991"
     },
     "user_tz": 420
    },
    "id": "821JnSxV7whI",
    "outputId": "10f97c7a-7564-409e-dd85-6cecaca74d06"
   },
   "outputs": [
    {
     "data": {
      "text/plain": [
       "True"
      ]
     },
     "execution_count": 34,
     "metadata": {},
     "output_type": "execute_result"
    }
   ],
   "source": [
    "Es(7)==(As(6)+sp.I*As(7))/sp.sqrt(2)"
   ]
  },
  {
   "cell_type": "code",
   "execution_count": 35,
   "metadata": {
    "colab": {
     "base_uri": "https://localhost:8080/"
    },
    "executionInfo": {
     "elapsed": 4,
     "status": "ok",
     "timestamp": 1697774591326,
     "user": {
      "displayName": "Carlos Alberto Vaquera Araujo",
      "userId": "00709773997759590991"
     },
     "user_tz": 420
    },
    "id": "P8SK_QnF7ysu",
    "outputId": "81a18cb5-f9ac-453c-a6cd-0f127f2b7f5b"
   },
   "outputs": [
    {
     "data": {
      "text/plain": [
       "True"
      ]
     },
     "execution_count": 35,
     "metadata": {},
     "output_type": "execute_result"
    }
   ],
   "source": [
    "Es(8)==(As(6)-sp.I*As(7))/sp.sqrt(2)"
   ]
  },
  {
   "cell_type": "markdown",
   "metadata": {
    "id": "VoXAV4_IFRHL"
   },
   "source": [
    "Cartan Basis Adjoint Representation"
   ]
  },
  {
   "cell_type": "code",
   "execution_count": 36,
   "metadata": {
    "executionInfo": {
     "elapsed": 5513,
     "status": "ok",
     "timestamp": 1697772072729,
     "user": {
      "displayName": "Carlos Alberto Vaquera Araujo",
      "userId": "00709773997759590991"
     },
     "user_tz": 420
    },
    "id": "hCDocpmm76r1"
   },
   "outputs": [],
   "source": [
    "#Adjoint Generators in Cartan basis\n",
    "H1a=Y(3)\n",
    "H2a=Y(8)\n",
    "#E_{\\alpha_{1+2}}\n",
    "Ep12a=(Y(1)+sp.I*Y(2))/sp.sqrt(2)\n",
    "#E_{-\\alpha_{1+2}}\n",
    "Em12a=(Y(1)-sp.I*Y(2))/sp.sqrt(2)\n",
    "#E_{\\alpha_{1}}\n",
    "Ep1a=(Y(4)+sp.I*Y(5))/sp.sqrt(2)\n",
    "#E_{-\\alpha_{1}}\n",
    "Em1a=(Y(4)-sp.I*Y(5))/sp.sqrt(2)\n",
    "#E_{\\alpha_{2}}\n",
    "Ep2a=(Y(6)-sp.I*Y(7))/sp.sqrt(2)\n",
    "#E_{-\\alpha_{2}}\n",
    "Em2a=(Y(6)+sp.I*Y(7))/sp.sqrt(2)"
   ]
  },
  {
   "cell_type": "code",
   "execution_count": 37,
   "metadata": {
    "colab": {
     "base_uri": "https://localhost:8080/",
     "height": 180
    },
    "executionInfo": {
     "elapsed": 168,
     "status": "ok",
     "timestamp": 1697775729031,
     "user": {
      "displayName": "Carlos Alberto Vaquera Araujo",
      "userId": "00709773997759590991"
     },
     "user_tz": 420
    },
    "id": "PysW6ykpGdg6",
    "outputId": "370be3da-c14c-4c8b-9879-859d5ec5f3c6"
   },
   "outputs": [
    {
     "data": {
      "text/latex": [
       "$\\displaystyle \\left[\\begin{matrix}0\\\\0\\\\0\\\\0\\\\\\frac{\\sqrt{2}}{2}\\\\0\\\\0\\\\0\\end{matrix}\\right]$"
      ],
      "text/plain": [
       "Matrix([\n",
       "[        0],\n",
       "[        0],\n",
       "[        0],\n",
       "[        0],\n",
       "[sqrt(2)/2],\n",
       "[        0],\n",
       "[        0],\n",
       "[        0]])"
      ]
     },
     "execution_count": 37,
     "metadata": {},
     "output_type": "execute_result"
    }
   ],
   "source": [
    "Ep12a*As(7)"
   ]
  },
  {
   "cell_type": "code",
   "execution_count": 38,
   "metadata": {
    "colab": {
     "base_uri": "https://localhost:8080/",
     "height": 180
    },
    "executionInfo": {
     "elapsed": 161,
     "status": "ok",
     "timestamp": 1697772320206,
     "user": {
      "displayName": "Carlos Alberto Vaquera Araujo",
      "userId": "00709773997759590991"
     },
     "user_tz": 420
    },
    "id": "KTkBB252GqSZ",
    "outputId": "61ef2e8d-17cc-47b3-a4ec-506bc39f320b"
   },
   "outputs": [
    {
     "data": {
      "text/latex": [
       "$\\displaystyle \\left[\\begin{matrix}0\\\\0\\\\0\\\\0\\\\\\frac{1}{2}\\\\0\\\\0\\\\0\\end{matrix}\\right]$"
      ],
      "text/plain": [
       "Matrix([\n",
       "[  0],\n",
       "[  0],\n",
       "[  0],\n",
       "[  0],\n",
       "[1/2],\n",
       "[  0],\n",
       "[  0],\n",
       "[  0]])"
      ]
     },
     "execution_count": 38,
     "metadata": {},
     "output_type": "execute_result"
    }
   ],
   "source": [
    "H1a*As(5)"
   ]
  },
  {
   "cell_type": "code",
   "execution_count": 39,
   "metadata": {
    "colab": {
     "base_uri": "https://localhost:8080/",
     "height": 183
    },
    "executionInfo": {
     "elapsed": 174,
     "status": "ok",
     "timestamp": 1697772349177,
     "user": {
      "displayName": "Carlos Alberto Vaquera Araujo",
      "userId": "00709773997759590991"
     },
     "user_tz": 420
    },
    "id": "DIckkgwBG_go",
    "outputId": "165c74f2-1f72-40ee-9cbe-8291cde45b33"
   },
   "outputs": [
    {
     "data": {
      "text/latex": [
       "$\\displaystyle \\left[\\begin{matrix}0\\\\0\\\\0\\\\0\\\\\\frac{\\sqrt{3}}{2}\\\\0\\\\0\\\\0\\end{matrix}\\right]$"
      ],
      "text/plain": [
       "Matrix([\n",
       "[        0],\n",
       "[        0],\n",
       "[        0],\n",
       "[        0],\n",
       "[sqrt(3)/2],\n",
       "[        0],\n",
       "[        0],\n",
       "[        0]])"
      ]
     },
     "execution_count": 39,
     "metadata": {},
     "output_type": "execute_result"
    }
   ],
   "source": [
    "H2a*As(5)"
   ]
  },
  {
   "cell_type": "markdown",
   "metadata": {
    "id": "tSXwh0KsIHeM"
   },
   "source": [
    "Cartan Basis Fundamental Representation"
   ]
  },
  {
   "cell_type": "code",
   "execution_count": 41,
   "metadata": {
    "executionInfo": {
     "elapsed": 235,
     "status": "ok",
     "timestamp": 1697777254998,
     "user": {
      "displayName": "Carlos Alberto Vaquera Araujo",
      "userId": "00709773997759590991"
     },
     "user_tz": 420
    },
    "id": "a3Vt1BGMH7e0"
   },
   "outputs": [],
   "source": [
    "#Fundamental Generators in Cartan basis\n",
    "H1=T(3)\n",
    "H2=T(8)\n",
    "#E_{\\alpha_{1+2}}\n",
    "Ep12=(T(1)+sp.I*T(2))/sp.sqrt(2)\n",
    "#E_{-\\alpha_{1+2}}\n",
    "Em12=(T(1)-sp.I*T(2))/sp.sqrt(2)\n",
    "#E_{\\alpha_{1}}\n",
    "Ep1=(T(4)+sp.I*T(5))/sp.sqrt(2)\n",
    "#E_{-\\alpha_{1}}\n",
    "Em1=(T(4)-sp.I*T(5))/sp.sqrt(2)\n",
    "#E_{\\alpha_{2}}\n",
    "Ep2=(T(6)-sp.I*T(7))/sp.sqrt(2)\n",
    "#E_{-\\alpha_{2}}\n",
    "Em2=(T(6)+sp.I*T(7))/sp.sqrt(2)"
   ]
  },
  {
   "cell_type": "markdown",
   "metadata": {},
   "source": [
    "$SU(3)$ Algebra in Cartan Basis"
   ]
  },
  {
   "cell_type": "code",
   "execution_count": 42,
   "metadata": {
    "colab": {
     "base_uri": "https://localhost:8080/"
    },
    "executionInfo": {
     "elapsed": 4,
     "status": "ok",
     "timestamp": 1697777497628,
     "user": {
      "displayName": "Carlos Alberto Vaquera Araujo",
      "userId": "00709773997759590991"
     },
     "user_tz": 420
    },
    "id": "9ZBCsjqoaP8l",
    "outputId": "c5f64285-a2b0-45e3-ece4-5c4837db8180"
   },
   "outputs": [
    {
     "data": {
      "text/plain": [
       "True"
      ]
     },
     "execution_count": 42,
     "metadata": {},
     "output_type": "execute_result"
    }
   ],
   "source": [
    "comm(H1,Ep12)==H1a[2,2]*Ep12"
   ]
  },
  {
   "cell_type": "code",
   "execution_count": 43,
   "metadata": {
    "colab": {
     "base_uri": "https://localhost:8080/"
    },
    "executionInfo": {
     "elapsed": 264,
     "status": "ok",
     "timestamp": 1697777508495,
     "user": {
      "displayName": "Carlos Alberto Vaquera Araujo",
      "userId": "00709773997759590991"
     },
     "user_tz": 420
    },
    "id": "_oemdYhkaUV_",
    "outputId": "34a45240-999e-4677-fddf-3072591132af"
   },
   "outputs": [
    {
     "data": {
      "text/plain": [
       "True"
      ]
     },
     "execution_count": 43,
     "metadata": {},
     "output_type": "execute_result"
    }
   ],
   "source": [
    "comm(H2,Ep12)==H2a[2,2]*Ep12"
   ]
  },
  {
   "cell_type": "code",
   "execution_count": 44,
   "metadata": {
    "colab": {
     "base_uri": "https://localhost:8080/"
    },
    "executionInfo": {
     "elapsed": 185,
     "status": "ok",
     "timestamp": 1697777542614,
     "user": {
      "displayName": "Carlos Alberto Vaquera Araujo",
      "userId": "00709773997759590991"
     },
     "user_tz": 420
    },
    "id": "1BKz4MfMaaJL",
    "outputId": "5b5c34a8-b6fe-47ed-c2a2-68a3397d4696"
   },
   "outputs": [
    {
     "data": {
      "text/plain": [
       "True"
      ]
     },
     "execution_count": 44,
     "metadata": {},
     "output_type": "execute_result"
    }
   ],
   "source": [
    "comm(H1,Em12)==H1a[3,3]*Em12"
   ]
  },
  {
   "cell_type": "code",
   "execution_count": 45,
   "metadata": {
    "colab": {
     "base_uri": "https://localhost:8080/"
    },
    "executionInfo": {
     "elapsed": 7,
     "status": "ok",
     "timestamp": 1697777570721,
     "user": {
      "displayName": "Carlos Alberto Vaquera Araujo",
      "userId": "00709773997759590991"
     },
     "user_tz": 420
    },
    "id": "BUgD15-oaiTU",
    "outputId": "b6f759e8-3045-4f0b-a6c5-cc6a35f80541"
   },
   "outputs": [
    {
     "data": {
      "text/plain": [
       "True"
      ]
     },
     "execution_count": 45,
     "metadata": {},
     "output_type": "execute_result"
    }
   ],
   "source": [
    "comm(H2,Em12)==H2a[3,3]*Em12"
   ]
  },
  {
   "cell_type": "code",
   "execution_count": 46,
   "metadata": {
    "colab": {
     "base_uri": "https://localhost:8080/"
    },
    "executionInfo": {
     "elapsed": 244,
     "status": "ok",
     "timestamp": 1697777613099,
     "user": {
      "displayName": "Carlos Alberto Vaquera Araujo",
      "userId": "00709773997759590991"
     },
     "user_tz": 420
    },
    "id": "-PcmtORMam98",
    "outputId": "f296c716-4b3a-488a-b503-da3c4478448d"
   },
   "outputs": [
    {
     "data": {
      "text/plain": [
       "True"
      ]
     },
     "execution_count": 46,
     "metadata": {},
     "output_type": "execute_result"
    }
   ],
   "source": [
    "comm(H1,Ep1)==H1a[4,4]*Ep1"
   ]
  },
  {
   "cell_type": "code",
   "execution_count": 47,
   "metadata": {
    "colab": {
     "base_uri": "https://localhost:8080/"
    },
    "executionInfo": {
     "elapsed": 5,
     "status": "ok",
     "timestamp": 1697777637263,
     "user": {
      "displayName": "Carlos Alberto Vaquera Araujo",
      "userId": "00709773997759590991"
     },
     "user_tz": 420
    },
    "id": "Guk0EP9cbi9L",
    "outputId": "2bc080d2-6059-4b1e-d1a6-3281bb72590c"
   },
   "outputs": [
    {
     "data": {
      "text/plain": [
       "True"
      ]
     },
     "execution_count": 47,
     "metadata": {},
     "output_type": "execute_result"
    }
   ],
   "source": [
    "comm(H2,Ep1)==H2a[4,4]*Ep1"
   ]
  },
  {
   "cell_type": "code",
   "execution_count": 48,
   "metadata": {
    "colab": {
     "base_uri": "https://localhost:8080/"
    },
    "executionInfo": {
     "elapsed": 213,
     "status": "ok",
     "timestamp": 1697777655673,
     "user": {
      "displayName": "Carlos Alberto Vaquera Araujo",
      "userId": "00709773997759590991"
     },
     "user_tz": 420
    },
    "id": "04Qyz09lbtX0",
    "outputId": "af801d9e-f7ec-46c4-eed0-eda4e010ba11"
   },
   "outputs": [
    {
     "data": {
      "text/plain": [
       "True"
      ]
     },
     "execution_count": 48,
     "metadata": {},
     "output_type": "execute_result"
    }
   ],
   "source": [
    "comm(H1,Em1)==H1a[5,5]*Em1"
   ]
  },
  {
   "cell_type": "code",
   "execution_count": 49,
   "metadata": {
    "colab": {
     "base_uri": "https://localhost:8080/"
    },
    "executionInfo": {
     "elapsed": 5,
     "status": "ok",
     "timestamp": 1697777675406,
     "user": {
      "displayName": "Carlos Alberto Vaquera Araujo",
      "userId": "00709773997759590991"
     },
     "user_tz": 420
    },
    "id": "65hfqYOXbx2O",
    "outputId": "f42e0861-2f6b-454e-8a20-6e8d0368d5bb"
   },
   "outputs": [
    {
     "data": {
      "text/plain": [
       "True"
      ]
     },
     "execution_count": 49,
     "metadata": {},
     "output_type": "execute_result"
    }
   ],
   "source": [
    "comm(H2,Em1)==H2a[5,5]*Em1"
   ]
  },
  {
   "cell_type": "code",
   "execution_count": 50,
   "metadata": {
    "colab": {
     "base_uri": "https://localhost:8080/"
    },
    "executionInfo": {
     "elapsed": 6,
     "status": "ok",
     "timestamp": 1697777716849,
     "user": {
      "displayName": "Carlos Alberto Vaquera Araujo",
      "userId": "00709773997759590991"
     },
     "user_tz": 420
    },
    "id": "Fz2h7HMLb1Rf",
    "outputId": "b0c9ce45-c927-4a9f-be12-19f82df9e9a9"
   },
   "outputs": [
    {
     "data": {
      "text/plain": [
       "True"
      ]
     },
     "execution_count": 50,
     "metadata": {},
     "output_type": "execute_result"
    }
   ],
   "source": [
    "comm(H1,Ep2)==H1a[7,7]*Ep2"
   ]
  },
  {
   "cell_type": "code",
   "execution_count": 51,
   "metadata": {
    "colab": {
     "base_uri": "https://localhost:8080/"
    },
    "executionInfo": {
     "elapsed": 5,
     "status": "ok",
     "timestamp": 1697777763336,
     "user": {
      "displayName": "Carlos Alberto Vaquera Araujo",
      "userId": "00709773997759590991"
     },
     "user_tz": 420
    },
    "id": "LOi3ABi5cJnL",
    "outputId": "9e9457c8-3e0a-46de-b94c-171abfb0c855"
   },
   "outputs": [
    {
     "data": {
      "text/plain": [
       "True"
      ]
     },
     "execution_count": 51,
     "metadata": {},
     "output_type": "execute_result"
    }
   ],
   "source": [
    "comm(H2,Ep2)==H2a[7,7]*Ep2"
   ]
  },
  {
   "cell_type": "code",
   "execution_count": 52,
   "metadata": {
    "colab": {
     "base_uri": "https://localhost:8080/"
    },
    "executionInfo": {
     "elapsed": 151,
     "status": "ok",
     "timestamp": 1697777789776,
     "user": {
      "displayName": "Carlos Alberto Vaquera Araujo",
      "userId": "00709773997759590991"
     },
     "user_tz": 420
    },
    "id": "7QzqzKq5cMJX",
    "outputId": "a553e8ef-ca3b-4f2a-860b-30c6a3a61665"
   },
   "outputs": [
    {
     "data": {
      "text/plain": [
       "True"
      ]
     },
     "execution_count": 52,
     "metadata": {},
     "output_type": "execute_result"
    }
   ],
   "source": [
    "comm(H1,Em2)==H1a[6,6]*Em2"
   ]
  },
  {
   "cell_type": "code",
   "execution_count": 53,
   "metadata": {
    "colab": {
     "base_uri": "https://localhost:8080/"
    },
    "executionInfo": {
     "elapsed": 152,
     "status": "ok",
     "timestamp": 1697777806993,
     "user": {
      "displayName": "Carlos Alberto Vaquera Araujo",
      "userId": "00709773997759590991"
     },
     "user_tz": 420
    },
    "id": "07h-fvJRcPv1",
    "outputId": "c0be646d-9ce3-4169-dc40-aa29535d5033"
   },
   "outputs": [
    {
     "data": {
      "text/plain": [
       "True"
      ]
     },
     "execution_count": 53,
     "metadata": {},
     "output_type": "execute_result"
    }
   ],
   "source": [
    "comm(H2,Em2)==H2a[6,6]*Em2"
   ]
  },
  {
   "cell_type": "code",
   "execution_count": 54,
   "metadata": {
    "colab": {
     "base_uri": "https://localhost:8080/"
    },
    "executionInfo": {
     "elapsed": 209,
     "status": "ok",
     "timestamp": 1697778270763,
     "user": {
      "displayName": "Carlos Alberto Vaquera Araujo",
      "userId": "00709773997759590991"
     },
     "user_tz": 420
    },
    "id": "NA0M2MuTcWzd",
    "outputId": "72c651f8-7733-4648-faf1-d7fd87a346e3"
   },
   "outputs": [
    {
     "data": {
      "text/plain": [
       "True"
      ]
     },
     "execution_count": 54,
     "metadata": {},
     "output_type": "execute_result"
    }
   ],
   "source": [
    "comm(Ep12,Em12)==H1a[2,2]*H1+H2a[2,2]*H2"
   ]
  },
  {
   "cell_type": "code",
   "execution_count": 55,
   "metadata": {
    "colab": {
     "base_uri": "https://localhost:8080/"
    },
    "executionInfo": {
     "elapsed": 7,
     "status": "ok",
     "timestamp": 1697778375323,
     "user": {
      "displayName": "Carlos Alberto Vaquera Araujo",
      "userId": "00709773997759590991"
     },
     "user_tz": 420
    },
    "id": "D6l_WnaAcdvG",
    "outputId": "4e49f567-f003-48c5-a75b-1f8401e4f726"
   },
   "outputs": [
    {
     "data": {
      "text/plain": [
       "True"
      ]
     },
     "execution_count": 55,
     "metadata": {},
     "output_type": "execute_result"
    }
   ],
   "source": [
    "comm(Ep1,Em1)==H1a[4,4]*H1+H2a[4,4]*H2"
   ]
  },
  {
   "cell_type": "code",
   "execution_count": 56,
   "metadata": {
    "colab": {
     "base_uri": "https://localhost:8080/"
    },
    "executionInfo": {
     "elapsed": 224,
     "status": "ok",
     "timestamp": 1697778411943,
     "user": {
      "displayName": "Carlos Alberto Vaquera Araujo",
      "userId": "00709773997759590991"
     },
     "user_tz": 420
    },
    "id": "UHtO0Q0ldWtf",
    "outputId": "b0d11869-6d52-46b5-c065-2b4f1414f557"
   },
   "outputs": [
    {
     "data": {
      "text/plain": [
       "True"
      ]
     },
     "execution_count": 56,
     "metadata": {},
     "output_type": "execute_result"
    }
   ],
   "source": [
    "comm(Ep2,Em2)==H1a[7,7]*H1+H2a[7,7]*H2"
   ]
  },
  {
   "cell_type": "code",
   "execution_count": 57,
   "metadata": {
    "colab": {
     "base_uri": "https://localhost:8080/"
    },
    "executionInfo": {
     "elapsed": 152,
     "status": "ok",
     "timestamp": 1697781991214,
     "user": {
      "displayName": "Carlos Alberto Vaquera Araujo",
      "userId": "00709773997759590991"
     },
     "user_tz": 420
    },
    "id": "-r55hdSeoBbg",
    "outputId": "c8e229cf-d333-4969-adf4-fd9b869d4dc3"
   },
   "outputs": [
    {
     "data": {
      "text/plain": [
       "True"
      ]
     },
     "execution_count": 57,
     "metadata": {},
     "output_type": "execute_result"
    }
   ],
   "source": [
    "comm(Ep12,Em1)==-Ep2/sp.sqrt(2)"
   ]
  },
  {
   "cell_type": "code",
   "execution_count": 58,
   "metadata": {
    "colab": {
     "base_uri": "https://localhost:8080/"
    },
    "executionInfo": {
     "elapsed": 153,
     "status": "ok",
     "timestamp": 1697782045014,
     "user": {
      "displayName": "Carlos Alberto Vaquera Araujo",
      "userId": "00709773997759590991"
     },
     "user_tz": 420
    },
    "id": "tkfIo2uasa03",
    "outputId": "746b56b0-fd61-4608-8df7-cbffaf4a0e76"
   },
   "outputs": [
    {
     "data": {
      "text/plain": [
       "True"
      ]
     },
     "execution_count": 58,
     "metadata": {},
     "output_type": "execute_result"
    }
   ],
   "source": [
    "comm(Ep12,Em2)==Ep1/sp.sqrt(2)"
   ]
  },
  {
   "cell_type": "code",
   "execution_count": 59,
   "metadata": {
    "colab": {
     "base_uri": "https://localhost:8080/"
    },
    "executionInfo": {
     "elapsed": 288,
     "status": "ok",
     "timestamp": 1697782928611,
     "user": {
      "displayName": "Carlos Alberto Vaquera Araujo",
      "userId": "00709773997759590991"
     },
     "user_tz": 420
    },
    "id": "F_dFArpbcnvR",
    "outputId": "123cabcc-85e6-4136-e597-73f1d58c41e0"
   },
   "outputs": [
    {
     "data": {
      "text/plain": [
       "True"
      ]
     },
     "execution_count": 59,
     "metadata": {},
     "output_type": "execute_result"
    }
   ],
   "source": [
    "comm(Ep1,Ep2)==Ep12/sp.sqrt(2)"
   ]
  },
  {
   "cell_type": "code",
   "execution_count": 60,
   "metadata": {
    "colab": {
     "base_uri": "https://localhost:8080/",
     "height": 78
    },
    "executionInfo": {
     "elapsed": 8,
     "status": "ok",
     "timestamp": 1697782991431,
     "user": {
      "displayName": "Carlos Alberto Vaquera Araujo",
      "userId": "00709773997759590991"
     },
     "user_tz": 420
    },
    "id": "bmNvKm5LlVJ0",
    "outputId": "0656489a-f72f-4af0-93f9-0b7fef888ae8"
   },
   "outputs": [
    {
     "data": {
      "text/latex": [
       "$\\displaystyle \\left[\\begin{matrix}0 & 0 & 0\\\\0 & 0 & 0\\\\0 & 0 & 0\\end{matrix}\\right]$"
      ],
      "text/plain": [
       "Matrix([\n",
       "[0, 0, 0],\n",
       "[0, 0, 0],\n",
       "[0, 0, 0]])"
      ]
     },
     "execution_count": 60,
     "metadata": {},
     "output_type": "execute_result"
    }
   ],
   "source": [
    "comm(Ep1,Em2)"
   ]
  },
  {
   "cell_type": "code",
   "execution_count": 61,
   "metadata": {
    "colab": {
     "base_uri": "https://localhost:8080/",
     "height": 78
    },
    "executionInfo": {
     "elapsed": 257,
     "status": "ok",
     "timestamp": 1697783071486,
     "user": {
      "displayName": "Carlos Alberto Vaquera Araujo",
      "userId": "00709773997759590991"
     },
     "user_tz": 420
    },
    "id": "OsRlc7z2wIeN",
    "outputId": "e9e4b50b-ded4-4332-d6ca-af2ad813ca6c"
   },
   "outputs": [
    {
     "data": {
      "text/latex": [
       "$\\displaystyle \\left[\\begin{matrix}0 & 0 & 0\\\\0 & 0 & 0\\\\0 & 0 & 0\\end{matrix}\\right]$"
      ],
      "text/plain": [
       "Matrix([\n",
       "[0, 0, 0],\n",
       "[0, 0, 0],\n",
       "[0, 0, 0]])"
      ]
     },
     "execution_count": 61,
     "metadata": {},
     "output_type": "execute_result"
    }
   ],
   "source": [
    "comm(Ep12,Ep1)"
   ]
  },
  {
   "cell_type": "code",
   "execution_count": 62,
   "metadata": {
    "colab": {
     "base_uri": "https://localhost:8080/",
     "height": 78
    },
    "executionInfo": {
     "elapsed": 8,
     "status": "ok",
     "timestamp": 1697783511791,
     "user": {
      "displayName": "Carlos Alberto Vaquera Araujo",
      "userId": "00709773997759590991"
     },
     "user_tz": 420
    },
    "id": "fo_3kHuXwL3I",
    "outputId": "e6f53b12-47b7-4534-fb4a-a356f6f245a9"
   },
   "outputs": [
    {
     "data": {
      "text/latex": [
       "$\\displaystyle \\left[\\begin{matrix}0 & 0 & 0\\\\0 & 0 & 0\\\\0 & 0 & 0\\end{matrix}\\right]$"
      ],
      "text/plain": [
       "Matrix([\n",
       "[0, 0, 0],\n",
       "[0, 0, 0],\n",
       "[0, 0, 0]])"
      ]
     },
     "execution_count": 62,
     "metadata": {},
     "output_type": "execute_result"
    }
   ],
   "source": [
    "comm(Ep12,Ep2)"
   ]
  }
 ],
 "metadata": {
  "colab": {
   "authorship_tag": "ABX9TyPzWlnJBV8GtJjvemClxrNG",
   "provenance": []
  },
  "kernelspec": {
   "display_name": "Python 3 (ipykernel)",
   "language": "python",
   "name": "python3"
  },
  "language_info": {
   "codemirror_mode": {
    "name": "ipython",
    "version": 3
   },
   "file_extension": ".py",
   "mimetype": "text/x-python",
   "name": "python",
   "nbconvert_exporter": "python",
   "pygments_lexer": "ipython3",
   "version": "3.10.9"
  }
 },
 "nbformat": 4,
 "nbformat_minor": 1
}
